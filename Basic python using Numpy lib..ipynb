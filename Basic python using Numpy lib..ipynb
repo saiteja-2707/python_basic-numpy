{
 "cells": [
  {
   "cell_type": "markdown",
   "id": "c5292045",
   "metadata": {},
   "source": [
    "# 1)import the numpy package under the name np"
   ]
  },
  {
   "cell_type": "code",
   "execution_count": 120,
   "id": "84c5e06f",
   "metadata": {},
   "outputs": [],
   "source": [
    "import numpy as np    #importing the numpy library"
   ]
  },
  {
   "cell_type": "markdown",
   "id": "96d287f8",
   "metadata": {},
   "source": [
    "# 2)create a null vector of size 10"
   ]
  },
  {
   "cell_type": "code",
   "execution_count": 3,
   "id": "681c1c01",
   "metadata": {},
   "outputs": [
    {
     "name": "stdout",
     "output_type": "stream",
     "text": [
      "[0. 0. 0. 0. 0. 0. 0. 0. 0. 0.]\n"
     ]
    }
   ],
   "source": [
    "a = np.zeros(10)   #np.zeros gives all zeros as output\n",
    "print(a)          #we can also write only \"a\" but the output will be\"array[.......]\"\n"
   ]
  },
  {
   "cell_type": "code",
   "execution_count": 4,
   "id": "7e24ad04",
   "metadata": {},
   "outputs": [
    {
     "data": {
      "text/plain": [
       "10"
      ]
     },
     "execution_count": 4,
     "metadata": {},
     "output_type": "execute_result"
    }
   ],
   "source": [
    "#to find the size of vector\n",
    "a.size "
   ]
  },
  {
   "cell_type": "markdown",
   "id": "f21af711",
   "metadata": {},
   "source": [
    "# 3)create a null vector of size 10 but the fifth value is 1"
   ]
  },
  {
   "cell_type": "code",
   "execution_count": 10,
   "id": "d9922795",
   "metadata": {},
   "outputs": [
    {
     "name": "stdout",
     "output_type": "stream",
     "text": [
      "[0 0 0 0 1 0 0 0 0 0]\n"
     ]
    }
   ],
   "source": [
    "a = (np.arange(10)==4).astype(int) #it gives an array all false(0)except for fourth position i,e..true(1)\n",
    "print(a)\n"
   ]
  },
  {
   "cell_type": "markdown",
   "id": "db7311b5",
   "metadata": {},
   "source": [
    "# 4)create a vector values ranging from 10to49"
   ]
  },
  {
   "cell_type": "code",
   "execution_count": 11,
   "id": "d7f3cd18",
   "metadata": {},
   "outputs": [
    {
     "name": "stdout",
     "output_type": "stream",
     "text": [
      "[10 11 12 13 14 15 16 17 18 19 20 21 22 23 24 25 26 27 28 29 30 31 32 33\n",
      " 34 35 36 37 38 39 40 41 42 43 44 45 46 47 48]\n"
     ]
    }
   ],
   "source": [
    "b = np.arange(10,49)\n",
    "print(b)"
   ]
  },
  {
   "cell_type": "markdown",
   "id": "298ffcda",
   "metadata": {},
   "source": [
    "# 5)reverse a vector"
   ]
  },
  {
   "cell_type": "code",
   "execution_count": 23,
   "id": "c94365bc",
   "metadata": {},
   "outputs": [
    {
     "data": {
      "text/plain": [
       "array([48, 47, 46, 45, 44, 43, 42, 41, 40, 39, 38, 37, 36, 35, 34, 33, 32,\n",
       "       31, 30, 29, 28, 27, 26, 25, 24, 23, 22, 21, 20, 19, 18, 17, 16, 15,\n",
       "       14, 13, 12, 11, 10])"
      ]
     },
     "execution_count": 23,
     "metadata": {},
     "output_type": "execute_result"
    }
   ],
   "source": [
    "b = b[::-1]\n",
    "b"
   ]
  },
  {
   "cell_type": "markdown",
   "id": "2477f664",
   "metadata": {},
   "source": [
    "# 6)create a 3x3 matrix with values ranging from 0 to 8"
   ]
  },
  {
   "cell_type": "markdown",
   "id": "ea82d5d7",
   "metadata": {},
   "source": [
    "m = np.arange(0,9)\n",
    "m.reshape(3,3)"
   ]
  },
  {
   "cell_type": "markdown",
   "id": "8c5bb105",
   "metadata": {},
   "source": [
    "# 7)Find indices of nonzero elements from [1,2,0,0,4,0]"
   ]
  },
  {
   "cell_type": "code",
   "execution_count": 46,
   "id": "a85c75d4",
   "metadata": {},
   "outputs": [
    {
     "name": "stdout",
     "output_type": "stream",
     "text": [
      "(array([0, 1, 4], dtype=int64),)\n"
     ]
    }
   ],
   "source": [
    "a = [1,2,0,0,4,0]\n",
    "nonzeroind = np.nonzero(a)\n",
    "print(nonzeroind)"
   ]
  },
  {
   "cell_type": "markdown",
   "id": "555743a9",
   "metadata": {},
   "source": [
    "# 8)Create a 3x3x3 array with random values"
   ]
  },
  {
   "cell_type": "code",
   "execution_count": 51,
   "id": "5b326c60",
   "metadata": {},
   "outputs": [
    {
     "name": "stdout",
     "output_type": "stream",
     "text": [
      "[[[0.74759761 0.23991381 0.18269427]\n",
      "  [0.84438864 0.82080761 0.34849578]\n",
      "  [0.97470728 0.97728551 0.3512262 ]]\n",
      "\n",
      " [[0.5904945  0.50131372 0.9937086 ]\n",
      "  [0.30110534 0.10118876 0.89399327]\n",
      "  [0.15892719 0.06741323 0.43565532]]\n",
      "\n",
      " [[0.96255493 0.19944939 0.38247628]\n",
      "  [0.43323255 0.89491172 0.67214216]\n",
      "  [0.93219083 0.04563736 0.71736047]]]\n"
     ]
    }
   ],
   "source": [
    "a1 = np.random.random((3,3,3))\n",
    "print(a1)"
   ]
  },
  {
   "cell_type": "markdown",
   "id": "29b34219",
   "metadata": {},
   "source": [
    "# 9)Create a random vector of size 30 and find the mean value"
   ]
  },
  {
   "cell_type": "code",
   "execution_count": 85,
   "id": "e73d8aa7",
   "metadata": {},
   "outputs": [
    {
     "name": "stdout",
     "output_type": "stream",
     "text": [
      "[ 0  1  2  3  4  5  6  7  8  9 10 11 12 13 14 15 16 17 18 19 20 21 22 23\n",
      " 24 25 26 27 28 29]\n",
      "\n",
      "\n",
      " mean of range 30 is 14.5\n"
     ]
    }
   ],
   "source": [
    "a2 = np.arange(30)\n",
    "print(a2)\n",
    "print(\"\\n\\n mean of range 30 is\",a2.mean())\n"
   ]
  },
  {
   "cell_type": "markdown",
   "id": "95a4a232",
   "metadata": {},
   "source": [
    "# 10)Create a 2d array with 1 on the border and 0 inside"
   ]
  },
  {
   "cell_type": "code",
   "execution_count": 122,
   "id": "c5f68482",
   "metadata": {},
   "outputs": [
    {
     "name": "stdout",
     "output_type": "stream",
     "text": [
      "original array:\n",
      "[[1. 1. 1. 1.]\n",
      " [1. 1. 1. 1.]\n",
      " [1. 1. 1. 1.]\n",
      " [1. 1. 1. 1.]] \n",
      "\n",
      "\n",
      "1 on the border and o inside the array:\n",
      "[[1. 1. 1. 1.]\n",
      " [1. 0. 0. 1.]\n",
      " [1. 0. 0. 1.]\n",
      " [1. 1. 1. 1.]]\n"
     ]
    }
   ],
   "source": [
    "array = np.ones((4,4))     #4*4 matrix\n",
    "print(\"original array:\")   #4*4 matrix all the values are filled with 1\n",
    "print(array,\"\\n\\n\")\n",
    "print(\"1 on the border and o inside the array:\")\n",
    "array[1:3,1:3]=0      #[1:3,1:3]=0 it indicates that after the 1st index and before 3rd index in row/column values are zero \n",
    "print(array)"
   ]
  },
  {
   "cell_type": "markdown",
   "id": "c4dfeb41",
   "metadata": {},
   "source": [
    "# 11)Create an 8x8 matrix and fill it with a checkerboard pattern"
   ]
  },
  {
   "cell_type": "code",
   "execution_count": 78,
   "id": "999024fe",
   "metadata": {},
   "outputs": [
    {
     "name": "stdout",
     "output_type": "stream",
     "text": [
      "checkerboard pattern:\n",
      "[[0 1 0 1 0 1 0 1]\n",
      " [1 0 1 0 1 0 1 0]\n",
      " [0 1 0 1 0 1 0 1]\n",
      " [1 0 1 0 1 0 1 0]\n",
      " [0 1 0 1 0 1 0 1]\n",
      " [1 0 1 0 1 0 1 0]\n",
      " [0 1 0 1 0 1 0 1]\n",
      " [1 0 1 0 1 0 1 0]]\n"
     ]
    }
   ],
   "source": [
    "x = np.ones((8,8))\n",
    "print(\"checkerboard pattern:\")\n",
    "x=np.zeros((8,8),dtype=int)\n",
    "x[1::2,::2]=1\n",
    "#slice from 1st index row till 1+2+2+..and fill all the columns with 1 starting from 0th to 0+2+2..\n",
    "x[::2,1::2]=1\n",
    "#slice from the 0th row till 0+2+2.. and fill all the columns with 1 strating from 1 to 1+2+2\n",
    "print(x)"
   ]
  },
  {
   "cell_type": "markdown",
   "id": "062ea0a1",
   "metadata": {},
   "source": [
    "# 12)What is the major difference between sets, lists, tuples, and dictionaries?"
   ]
  },
  {
   "cell_type": "code",
   "execution_count": null,
   "id": "5388de85",
   "metadata": {},
   "outputs": [],
   "source": [
    "#differences between list,tuples,sets,and dictionaries\n",
    "#list\n",
    "'''1)list is a collection which is orderd.\n",
    "2)lists are mutable and allows the duplicate values.\n",
    "3)square brackets are used to represent the list  []. \n",
    "4)we can single element at the end by without changing or modifying the list.'''\n",
    "#tuples\n",
    "'''1)tuples is an orderd collection\n",
    "2)tuples are immutable\n",
    "3)Tuples are enclosed within parenthesis.()\n",
    "4)an element cannot be added to the tuple as it is immutable.'''\n",
    "#sets\n",
    "'''1)sets is an unorderd collection.\n",
    "2)Sets are mutable and have no duplicate elements.\n",
    "3)Sets are represented in curly brackets {}.\n",
    "4)The set add() method adds a given element to a set.'''\n",
    "#dictionaries\n",
    "'''1) dictionary is an unordered collection of data that stores data in key-value pairs.\n",
    "2)this are mutable and keys do not allow duplicates {}.\n",
    "3)dictionaries are enclosed in curly brackets in the form of key-value pairs.\n",
    "4)it can changed or modifyed with the specified key-value pairs'''\n"
   ]
  },
  {
   "cell_type": "markdown",
   "id": "155da39a",
   "metadata": {},
   "source": [
    "# 13)Print first 10 natural numbers using while loop"
   ]
  },
  {
   "cell_type": "code",
   "execution_count": 86,
   "id": "fe8b6caf",
   "metadata": {},
   "outputs": [
    {
     "name": "stdout",
     "output_type": "stream",
     "text": [
      "1\n",
      "2\n",
      "3\n",
      "4\n",
      "5\n",
      "6\n",
      "7\n",
      "8\n",
      "9\n",
      "10\n"
     ]
    }
   ],
   "source": [
    "i = 1\n",
    "while(i<=10):\n",
    "    print(i)\n",
    "    i += 1"
   ]
  },
  {
   "cell_type": "markdown",
   "id": "8969177f",
   "metadata": {},
   "source": [
    "# 14)Print the numbers -10 to -1 using for loop."
   ]
  },
  {
   "cell_type": "code",
   "execution_count": 108,
   "id": "5706db96",
   "metadata": {},
   "outputs": [
    {
     "name": "stdout",
     "output_type": "stream",
     "text": [
      "-10\n",
      "-9\n",
      "-8\n",
      "-7\n",
      "-6\n",
      "-5\n",
      "-4\n",
      "-3\n",
      "-2\n",
      "-1\n"
     ]
    }
   ],
   "source": [
    "for i in range(-10,0):\n",
    "        print(i)\n",
    "        "
   ]
  },
  {
   "cell_type": "markdown",
   "id": "cc53e0bb",
   "metadata": {},
   "source": [
    "# 15)Print the message \"Done\" after successful execution of any for a loop."
   ]
  },
  {
   "cell_type": "code",
   "execution_count": 123,
   "id": "c2cdfc08",
   "metadata": {},
   "outputs": [
    {
     "name": "stdout",
     "output_type": "stream",
     "text": [
      "-10\n",
      "-9\n",
      "-8\n",
      "-7\n",
      "-6\n",
      "-5\n",
      "-4\n",
      "-3\n",
      "-2\n",
      "-1\n",
      "done\n"
     ]
    }
   ],
   "source": [
    "for i in range(-10,0):\n",
    "    print(i)\n",
    "if i==-1:\n",
    "    print(\"done\")\n",
    "else:\n",
    "    print(\"not done\")"
   ]
  },
  {
   "cell_type": "markdown",
   "id": "7614b515",
   "metadata": {},
   "source": [
    "# 16)Create a random vector of size 10 and sort it"
   ]
  },
  {
   "cell_type": "code",
   "execution_count": 124,
   "id": "d27a3036",
   "metadata": {},
   "outputs": [
    {
     "name": "stdout",
     "output_type": "stream",
     "text": [
      "before sorting= [0.01364208 0.88210601 0.42038992 0.9133489  0.53287671 0.02895712\n",
      " 0.50231628 0.22569463 0.4117177  0.99847326] \n",
      "\n",
      "\n",
      "after sorting= [0.01364208 0.02895712 0.22569463 0.4117177  0.42038992 0.50231628\n",
      " 0.53287671 0.88210601 0.9133489  0.99847326]\n"
     ]
    }
   ],
   "source": [
    "a2 = np.random.random((10))\n",
    "print(\"before sorting=\",a2,\"\\n\\n\")\n",
    "a3 = a2\n",
    "a3.sort()\n",
    "print(\"after sorting=\",a3)"
   ]
  },
  {
   "cell_type": "markdown",
   "id": "cb6d2be5",
   "metadata": {},
   "source": [
    "# 17)Execute any three math functions using Numpy."
   ]
  },
  {
   "cell_type": "code",
   "execution_count": 126,
   "id": "0bc8348b",
   "metadata": {},
   "outputs": [],
   "source": [
    "import math as m #importing math library as m"
   ]
  },
  {
   "cell_type": "code",
   "execution_count": 131,
   "id": "de9969e9",
   "metadata": {},
   "outputs": [
    {
     "name": "stdout",
     "output_type": "stream",
     "text": [
      "6.708203932499369\n"
     ]
    }
   ],
   "source": [
    "x =45 #square root of 45\n",
    "x =np.sqrt(x)\n",
    "print(x)"
   ]
  },
  {
   "cell_type": "code",
   "execution_count": 130,
   "id": "48975f68",
   "metadata": {},
   "outputs": [
    {
     "name": "stdout",
     "output_type": "stream",
     "text": [
      "0.8509035245341184\n"
     ]
    }
   ],
   "source": [
    "x = 45       #sin functiom\n",
    "x = np.sin(45)\n",
    "print(x)"
   ]
  },
  {
   "cell_type": "code",
   "execution_count": 133,
   "id": "526be174",
   "metadata": {},
   "outputs": [
    {
     "name": "stdout",
     "output_type": "stream",
     "text": [
      "[ 0.          0.84147098  0.90929743  0.14112001 -0.7568025 ]\n"
     ]
    }
   ],
   "source": [
    "x = np.arange(0,5) #sin value from range of 0 to 5\n",
    "x= np.sin(x)\n",
    "print(x)"
   ]
  },
  {
   "cell_type": "code",
   "execution_count": 132,
   "id": "44ca31ad",
   "metadata": {},
   "outputs": [
    {
     "name": "stdout",
     "output_type": "stream",
     "text": [
      "2.302585092994046\n"
     ]
    }
   ],
   "source": [
    "x =10      #logarithmic function\n",
    "x =np.log(x)\n",
    "print(x)"
   ]
  },
  {
   "cell_type": "code",
   "execution_count": null,
   "id": "6496cc79",
   "metadata": {},
   "outputs": [],
   "source": []
  }
 ],
 "metadata": {
  "kernelspec": {
   "display_name": "Python 3",
   "language": "python",
   "name": "python3"
  },
  "language_info": {
   "codemirror_mode": {
    "name": "ipython",
    "version": 3
   },
   "file_extension": ".py",
   "mimetype": "text/x-python",
   "name": "python",
   "nbconvert_exporter": "python",
   "pygments_lexer": "ipython3",
   "version": "3.8.8"
  }
 },
 "nbformat": 4,
 "nbformat_minor": 5
}
